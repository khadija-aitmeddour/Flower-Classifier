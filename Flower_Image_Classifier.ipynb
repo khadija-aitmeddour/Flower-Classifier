{
  "cells": [
    {
      "cell_type": "markdown",
      "metadata": {
        "id": "view-in-github",
        "colab_type": "text"
      },
      "source": [
        "<a href=\"https://colab.research.google.com/github/khadija-aitmeddour/Flower-Classifier/blob/main/Flower_Image_Classifier.ipynb\" target=\"_parent\"><img src=\"https://colab.research.google.com/assets/colab-badge.svg\" alt=\"Open In Colab\"/></a>"
      ]
    },
    {
      "cell_type": "markdown",
      "metadata": {
        "id": "ptnGwXsfq3W_"
      },
      "source": [
        "# Developing a Flower Image Classifier\n",
        "\n",
        "In this notebook, we will build a flower image classifier using deep learning techniques. We will use a pre-trained model from PyTorch and fine-tune it to classify images of flowers."
      ]
    },
    {
      "cell_type": "code",
      "execution_count": 1,
      "metadata": {
        "id": "0U8Pj0lfq3XC"
      },
      "outputs": [],
      "source": [
        "import torch\n",
        "from torch import nn, optim\n",
        "from torchvision import transforms, datasets, models\n",
        "import time\n",
        "from PIL import Image\n",
        "import numpy as np\n",
        "import matplotlib.pyplot as plt"
      ]
    },
    {
      "cell_type": "markdown",
      "metadata": {
        "id": "opSz3hePq3XD"
      },
      "source": [
        "## Loading the Data\n",
        "\n",
        "We will load the dataset and apply the necessary transformations."
      ]
    },
    {
      "cell_type": "code",
      "execution_count": 2,
      "metadata": {
        "colab": {
          "base_uri": "https://localhost:8080/"
        },
        "id": "pJlfQuIUhB3g",
        "outputId": "9b13ed69-1883-4d75-b3bb-717295aa1cfb"
      },
      "outputs": [
        {
          "output_type": "stream",
          "name": "stdout",
          "text": [
            "[INFO] Directory created: ./flowers\n",
            "\n",
            "[INFO] Downloading the file 'flower_data.tar.gz' to ./flowers\n",
            "[INFO] 'flower_data.tar.gz' saved to ./flowers\n",
            "\n",
            "[INFO] Extracting the downloaded tarball to ./flowers\n",
            "[INFO] 'flower_data.tar.gz' extracted successfully to ./flowers\n",
            "\n",
            "[INFO] Deleting the tarball to save space.\n"
          ]
        }
      ],
      "source": [
        "# imports\n",
        "import os\n",
        "import requests\n",
        "from pathlib import Path\n",
        "import tarfile\n",
        "\n",
        "# defining dataset directory\n",
        "data_dir = './flowers'\n",
        "\n",
        "# using pathlib.Path for handling PosixPath\n",
        "FLOWERS_DIR = Path(data_dir)\n",
        "\n",
        "# downloading and setting up data if not already present\n",
        "if not FLOWERS_DIR.is_dir():\n",
        "    # creating directory\n",
        "    FLOWERS_DIR.mkdir(parents=True, exist_ok=True)\n",
        "    print(f\"[INFO] Directory created: ./{FLOWERS_DIR}\")\n",
        "\n",
        "    print() # for readability\n",
        "\n",
        "    # tarball path\n",
        "    TARBALL = FLOWERS_DIR / \"flower_data.tar.gz\"\n",
        "\n",
        "    # downloading and writing the tarball to './flowers' directory\n",
        "    print(f\"[INFO] Downloading the file 'flower_data.tar.gz' to ./{FLOWERS_DIR}\")\n",
        "    request = requests.get('https://s3.amazonaws.com/content.udacity-data.com/nd089/flower_data.tar.gz')\n",
        "    with open(TARBALL, \"wb\") as file_ref:\n",
        "        file_ref.write(request.content)\n",
        "        print(f\"[INFO] 'flower_data.tar.gz' saved to ./{FLOWERS_DIR}\")\n",
        "\n",
        "    print() # for readability\n",
        "\n",
        "    # extracting the downloaded tarball\n",
        "    print(f\"[INFO] Extracting the downloaded tarball to ./{FLOWERS_DIR}\")\n",
        "    with tarfile.open(TARBALL, \"r\") as tar_ref:\n",
        "        tar_ref.extractall(FLOWERS_DIR)\n",
        "        print(f\"[INFO] 'flower_data.tar.gz' extracted successfully to ./{FLOWERS_DIR}\")\n",
        "\n",
        "    print() # for readability\n",
        "\n",
        "    # using os.remove to delete the downloaded tarball\n",
        "    print(\"[INFO] Deleting the tarball to save space.\")\n",
        "\n",
        "    os.remove(TARBALL)\n",
        "else:\n",
        "    print(f\"[INFO] Dataset already setup at ./{FLOWERS_DIR}\")"
      ]
    },
    {
      "cell_type": "markdown",
      "metadata": {
        "id": "-wg-VwMDq3XF"
      },
      "source": [
        "## Data Description\n",
        "\n",
        "The dataset is split into three parts: training, validation, and testing."
      ]
    },
    {
      "cell_type": "code",
      "execution_count": 3,
      "metadata": {
        "id": "GpoojFoJq3XI"
      },
      "outputs": [],
      "source": [
        "data_dir = './flowers'\n",
        "train_dir = data_dir + '/train'\n",
        "valid_dir = data_dir + '/valid'\n",
        "test_dir = data_dir + '/test'"
      ]
    },
    {
      "cell_type": "markdown",
      "metadata": {
        "id": "0REe1jxthB3s"
      },
      "source": [
        "## Data Transformations\n",
        "We will apply transformations to the training and testing datasets."
      ]
    },
    {
      "cell_type": "code",
      "execution_count": 4,
      "metadata": {
        "id": "M3-fCz0kq3XJ"
      },
      "outputs": [],
      "source": [
        "train_transforms = transforms.Compose([\n",
        "    transforms.RandomResizedCrop(224),\n",
        "    transforms.RandomRotation(30),\n",
        "    transforms.RandomHorizontalFlip(),\n",
        "    transforms.ToTensor(),\n",
        "    transforms.Normalize((0.485, 0.456, 0.406), (0.229, 0.224, 0.225))\n",
        "\n",
        "])\n",
        "test_transforms = transforms.Compose([\n",
        "    transforms.Resize(255),\n",
        "    transforms.CenterCrop(224),\n",
        "    transforms.ToTensor(),\n",
        "     transforms.Normalize((0.485, 0.456, 0.406), (0.229, 0.224, 0.225)),\n",
        "])\n",
        "\n",
        "\n",
        "trainset = datasets.ImageFolder(train_dir, transform=train_transforms)\n",
        "validset = datasets.ImageFolder(valid_dir, transform=test_transforms)\n",
        "testset = datasets.ImageFolder(test_dir, transform=test_transforms)\n",
        "\n",
        "trainloader = torch.utils.data.DataLoader(trainset, batch_size=32, shuffle=True)\n",
        "validloader = torch.utils.data.DataLoader(validset, batch_size=32, shuffle=True)\n",
        "testloader = torch.utils.data.DataLoader(testset, batch_size=32, shuffle=True)"
      ]
    },
    {
      "cell_type": "markdown",
      "metadata": {
        "id": "Qwo7wlOtq3XK"
      },
      "source": [
        "### Label Mapping\n",
        "We will load a JSON file that maps the category labels to flower names."
      ]
    },
    {
      "cell_type": "code",
      "execution_count": 7,
      "metadata": {
        "id": "yOyMPy3Kq3XK"
      },
      "outputs": [],
      "source": [
        "import json\n",
        "\n",
        "with open('cat_to_name.json', 'r') as f:\n",
        "    cat_to_name = json.load(f)"
      ]
    },
    {
      "cell_type": "markdown",
      "metadata": {
        "id": "zkm3KrPdq3XL"
      },
      "source": [
        "# Building and Training the Classifier\n",
        "\n",
        "## Building the Classifier\n",
        "We will build the classifier using a pre-trained VGG19 model."
      ]
    },
    {
      "cell_type": "code",
      "execution_count": 16,
      "metadata": {
        "colab": {
          "base_uri": "https://localhost:8080/"
        },
        "id": "AfIW8Fapq3XM",
        "outputId": "2824b06d-faf4-4b24-c64f-ac0a93f0abbc"
      },
      "outputs": [
        {
          "output_type": "stream",
          "name": "stderr",
          "text": [
            "/usr/local/lib/python3.11/dist-packages/torchvision/models/_utils.py:208: UserWarning: The parameter 'pretrained' is deprecated since 0.13 and may be removed in the future, please use 'weights' instead.\n",
            "  warnings.warn(\n",
            "/usr/local/lib/python3.11/dist-packages/torchvision/models/_utils.py:223: UserWarning: Arguments other than a weight enum or `None` for 'weights' are deprecated since 0.13 and may be removed in the future. The current behavior is equivalent to passing `weights=VGG19_Weights.IMAGENET1K_V1`. You can also use `weights=VGG19_Weights.DEFAULT` to get the most up-to-date weights.\n",
            "  warnings.warn(msg)\n"
          ]
        }
      ],
      "source": [
        "device = torch.device('cuda' if torch.cuda.is_available() else 'cpu')\n",
        "\n",
        "model = models.vgg19(pretrained=True)\n",
        "\n",
        "for param in model.parameters():\n",
        "    param.requires_grad = False\n",
        "\n",
        "n_inputs = model.classifier[0].in_features\n",
        "\n",
        "model.classifier = nn.Sequential(nn.Linear(n_inputs, 512),\n",
        "                          nn.ReLU(),\n",
        "                          nn.Linear(512, 102),\n",
        "                          nn.LogSoftmax(dim=1))\n",
        "criterion = nn.NLLLoss()\n",
        "optimizer = optim.Adam(model.classifier.parameters(), lr=0.0001)\n",
        "model.to(device);"
      ]
    },
    {
      "cell_type": "markdown",
      "metadata": {
        "id": "d0xH-_56hB31"
      },
      "source": [
        "## Training the Classifier\n",
        "\n",
        "We will train the classifier using the training dataset and validate it using the validation dataset."
      ]
    },
    {
      "cell_type": "code",
      "execution_count": 17,
      "metadata": {
        "colab": {
          "base_uri": "https://localhost:8080/"
        },
        "id": "I1cFwDaUq3XM",
        "outputId": "e5aa8932-a556-4572-f5f6-fcfa2c5f1ef1"
      },
      "outputs": [
        {
          "output_type": "stream",
          "name": "stdout",
          "text": [
            "\n",
            "Training in progress...\n",
            "---------------------------------\n",
            "Epoch 1 completed in : 82.94s\n",
            "--------------------------\n",
            "Training Loss : 2.9877\n",
            "Validation Loss : 1.4900\n",
            "Validation Accuracy : 65.52%\n",
            "\n",
            "Epoch 2 completed in : 82.69s\n",
            "--------------------------\n",
            "Training Loss : 1.5786\n",
            "Validation Loss : 0.8801\n",
            "Validation Accuracy : 80.97%\n",
            "\n",
            "Epoch 3 completed in : 82.25s\n",
            "--------------------------\n",
            "Training Loss : 1.2064\n",
            "Validation Loss : 0.7029\n",
            "Validation Accuracy : 83.33%\n",
            "\n",
            "Epoch 4 completed in : 82.67s\n",
            "--------------------------\n",
            "Training Loss : 1.0025\n",
            "Validation Loss : 0.5768\n",
            "Validation Accuracy : 85.08%\n",
            "\n",
            "Epoch 5 completed in : 82.46s\n",
            "--------------------------\n",
            "Training Loss : 0.8866\n",
            "Validation Loss : 0.5660\n",
            "Validation Accuracy : 86.40%\n",
            "\n",
            "---------------------------------\n",
            "Training completed successfully!\n"
          ]
        }
      ],
      "source": [
        "epochs = 5\n",
        "print('\\nTraining in progress...')\n",
        "print('---------------------------------')\n",
        "for e in range(epochs):\n",
        "    model.train()\n",
        "\n",
        "    running_train_loss = 0\n",
        "    running_validation_loss = 0\n",
        "    accuracy = 0\n",
        "    n_train = len(trainloader)\n",
        "    n_valid = len(validloader)\n",
        "\n",
        "    epoch_start = time.time()\n",
        "\n",
        "    for inputs, labels in trainloader:\n",
        "\n",
        "        inputs, labels= inputs.to(device), labels.to(device)\n",
        "\n",
        "        optimizer.zero_grad()\n",
        "\n",
        "        logps = model.forward(inputs)\n",
        "        train_loss = criterion(logps, labels)\n",
        "        train_loss.backward()\n",
        "        optimizer.step()\n",
        "\n",
        "        running_train_loss += train_loss.item()\n",
        "    else:\n",
        "        with torch.no_grad():\n",
        "            model.eval()\n",
        "            for inputs, labels in validloader:\n",
        "                inputs, labels= inputs.to(device), labels.to(device)\n",
        "\n",
        "                logps = model.forward(inputs)\n",
        "                validation_loss = criterion(logps, labels)\n",
        "\n",
        "                running_validation_loss += validation_loss\n",
        "\n",
        "                ps = torch.exp(logps)\n",
        "                top_p, top_class = ps.topk(1, dim=1)\n",
        "                equals = top_class == labels.view(*top_class.shape)\n",
        "                accuracy += torch.mean(equals.type(torch.FloatTensor))\n",
        "\n",
        "        avg_train_loss = running_train_loss/n_train\n",
        "        avg_val_loss = running_validation_loss/n_valid\n",
        "        avg_val_accuracy = (accuracy/n_valid) *100\n",
        "\n",
        "        print(f'Epoch {e+1} completed in : {(time.time() - epoch_start):.2f}s')\n",
        "        print('--------------------------')\n",
        "        print(f'Training Loss : {avg_train_loss:.4f}')\n",
        "        print(f'Validation Loss : {avg_val_loss:.4f}')\n",
        "        print(f'Validation Accuracy : {avg_val_accuracy:.2f}%\\n')\n",
        "print('---------------------------------')\n",
        "print('Training completed successfully!')"
      ]
    },
    {
      "cell_type": "markdown",
      "metadata": {
        "id": "BGqpGWnpq3XN"
      },
      "source": [
        "## Testing the Network\n",
        "We will test the trained model using the test dataset."
      ]
    },
    {
      "cell_type": "code",
      "execution_count": 19,
      "metadata": {
        "colab": {
          "base_uri": "https://localhost:8080/"
        },
        "id": "9Jmx0LqRq3XO",
        "outputId": "7ff959df-9083-48af-ba62-44b432d95ebd"
      },
      "outputs": [
        {
          "output_type": "stream",
          "name": "stdout",
          "text": [
            "Test accuracy : 82.33%\n"
          ]
        }
      ],
      "source": [
        "accuracy = 0\n",
        "\n",
        "with torch.no_grad():\n",
        "    model.eval()\n",
        "\n",
        "    for inputs, labels in testloader:\n",
        "        inputs, labels= inputs.to(device), labels.to(device)\n",
        "\n",
        "        logps = model.forward(inputs)\n",
        "        ps = torch.exp(logps)\n",
        "        top_p, top_class = ps.topk(1, dim=1)\n",
        "        equals = top_class == labels.view(*top_class.shape)\n",
        "        accuracy += torch.mean(equals.type(torch.FloatTensor))\n",
        "\n",
        "    print(f'Test accuracy : {(accuracy/len(testloader))*100:.2f}%')"
      ]
    },
    {
      "cell_type": "markdown",
      "metadata": {
        "id": "rXEVmXhqq3XP"
      },
      "source": [
        "## Saving the Checkpoint\n",
        "We will save the trained model checkpoint."
      ]
    },
    {
      "cell_type": "code",
      "execution_count": 21,
      "metadata": {
        "id": "T71r0_DKq3XP",
        "colab": {
          "base_uri": "https://localhost:8080/"
        },
        "outputId": "99c9f53c-13ed-4cee-f14f-15e9fdf9c4c3"
      },
      "outputs": [
        {
          "output_type": "stream",
          "name": "stdout",
          "text": [
            "Checkpoint saved successfully!\n"
          ]
        }
      ],
      "source": [
        "model.class_to_idx = trainset.class_to_idx\n",
        "\n",
        "checkpoint = {\n",
        "        'epoch': epochs,\n",
        "        'model_state_dict': model.state_dict(),\n",
        "        'optimizer_state_dict': optimizer.state_dict(),\n",
        "        'train_loss': avg_train_loss,\n",
        "        'test_loss': avg_val_loss,\n",
        "        'accuracy': avg_val_accuracy\n",
        "    }\n",
        "torch.save(checkpoint, 'checkpoint.pth')\n",
        "print('Checkpoint saved successfully!')"
      ]
    },
    {
      "cell_type": "markdown",
      "metadata": {
        "id": "wLVkqoS9q3XQ"
      },
      "source": [
        "## Loading the Checkpoint\n",
        "\n",
        "We will write a function to load a checkpoint and rebuild the model. This is useful in case we need to resume training or use the model later without retraining."
      ]
    },
    {
      "cell_type": "code",
      "execution_count": null,
      "metadata": {
        "id": "SVbCnC4dq3XQ"
      },
      "outputs": [],
      "source": [
        "def load_checkpoint(filepath, model, optimizer):\n",
        "    checkpoint = torch.load(filepath)\n",
        "    model.load_state_dict(checkpoint['model_state_dict'])\n",
        "    model.class_to_idx = checkpoint['class_to_idx']\n",
        "    optimizer.load_state_dict(checkpoint['optimizer_state_dict'])\n",
        "    epoch = checkpoint['epoch']\n",
        "\n",
        "    return epoch"
      ]
    },
    {
      "cell_type": "markdown",
      "metadata": {
        "id": "awWThjE-q3XR"
      },
      "source": [
        "# Inference for Classification\n",
        "\n",
        "## Image Preprocessing\n",
        "\n",
        "We will preprocess the image for use in the model."
      ]
    },
    {
      "cell_type": "code",
      "execution_count": 22,
      "metadata": {
        "id": "fz5AG2XLq3XR"
      },
      "outputs": [],
      "source": [
        "def process_image(image):\n",
        "\n",
        "    transform = transforms.Compose([\n",
        "        transforms.Resize(256),\n",
        "        transforms.CenterCrop(224),\n",
        "        transforms.ToTensor(),\n",
        "        transforms.Normalize(mean=[0.485, 0.456, 0.406], std=[0.229, 0.224, 0.225])\n",
        "    ])\n",
        "\n",
        "    image = transform(image)\n",
        "    image = image.view(1, *image.shape)\n",
        "\n",
        "    image = image.to(torch.device('cuda' if torch.cuda.is_available() else 'cpu'))\n",
        "\n",
        "    return image"
      ]
    },
    {
      "cell_type": "markdown",
      "metadata": {
        "id": "VjhRwgSNq3XU"
      },
      "source": [
        "## Class Prediction\n",
        "\n",
        "We will write a function to predict the class of an image using the trained model."
      ]
    },
    {
      "cell_type": "code",
      "execution_count": 13,
      "metadata": {
        "id": "DeAkM-REq3XV"
      },
      "outputs": [],
      "source": [
        "def predict(image_path, model):\n",
        "    image = Image.open(image_path)\n",
        "    image = process_image(image)\n",
        "\n",
        "    logps = model.forward(image)\n",
        "    ps = torch.exp(logps)\n",
        "    probs, idx = ps.topk(5, dim=1)\n",
        "\n",
        "    idx = idx.squeeze().tolist()\n",
        "    probs = probs.squeeze().tolist()\n",
        "\n",
        "    idx_to_class = {idx:k for k, idx in model.class_to_idx.items()}\n",
        "\n",
        "    classes_idx = [idx_to_class[i] for i in idx]\n",
        "    classes_names = [cat_to_name[c] for c in classes_idx]\n",
        "\n",
        "    return classes_names, probs"
      ]
    },
    {
      "cell_type": "markdown",
      "metadata": {
        "id": "vHGeNYlZq3XV"
      },
      "source": [
        "## Sanity Checking\n",
        "\n"
      ]
    },
    {
      "cell_type": "markdown",
      "metadata": {
        "id": "aKxI1ENuhB3-"
      },
      "source": [
        "## Visualizing the Predictions\n",
        "\n",
        "We will visualize the top 5 predictions for a given image along with their probabilities."
      ]
    },
    {
      "cell_type": "code",
      "execution_count": 23,
      "metadata": {
        "colab": {
          "base_uri": "https://localhost:8080/",
          "height": 307
        },
        "id": "xPzQYm9aq3XV",
        "outputId": "0c6d3fbf-681c-4608-9e02-617c3368bc4e"
      },
      "outputs": [
        {
          "output_type": "display_data",
          "data": {
            "text/plain": [
              "<Figure size 700x300 with 2 Axes>"
            ],
            "image/png": "[encoded data removed]"
          },
          "metadata": {}
        }
      ],
      "source": [
        "image_path = 'white_rose.jpg'\n",
        "\n",
        "image = Image.open(image_path)\n",
        "image.thumbnail((300,300))\n",
        "\n",
        "classes, probs = predict(image_path, model)\n",
        "\n",
        "probs, classes = probs[::-1], classes[::-1]\n",
        "\n",
        "fig, ax = plt.subplots(1, 2, figsize=(7, 3), gridspec_kw={'width_ratios': [1, 2]})\n",
        "\n",
        "ax[0].imshow(image)\n",
        "ax[0].axis(\"off\")\n",
        "\n",
        "ax[1].barh(classes, probs, height=0.6, color=\"royalblue\")\n",
        "ax[1].set_xlabel(\"Probability\")\n",
        "ax[1].set_title(\"Top Predictions\")\n",
        "\n",
        "ax[1].set_xticks(np.arange(0, 1.1, 0.2))\n",
        "\n",
        "plt.tight_layout()\n",
        "plt.show()"
      ]
    }
  ],
  "metadata": {
    "accelerator": "GPU",
    "colab": {
      "gpuType": "T4",
      "provenance": [],
      "include_colab_link": true
    },
    "kernelspec": {
      "display_name": "training_dojo",
      "language": "python",
      "name": "python3"
    },
    "language_info": {
      "codemirror_mode": {
        "name": "ipython",
        "version": 3
      },
      "file_extension": ".py",
      "mimetype": "text/x-python",
      "name": "python",
      "nbconvert_exporter": "python",
      "pygments_lexer": "ipython3",
      "version": "3.12.7"
    }
  },
  "nbformat": 4,
  "nbformat_minor": 0
}